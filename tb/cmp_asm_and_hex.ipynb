{
 "cells": [
  {
   "cell_type": "code",
   "execution_count": 71,
   "id": "6fbbc08d",
   "metadata": {},
   "outputs": [],
   "source": [
    "from riscv_assembler.convert import AssemblyConverter\n",
    "asm_file = 'inst.asm'\n",
    "hexa_file = 'inst.mem'\n",
    "convertor = AssemblyConverter()\n",
    "binary = convertor.convert(asm_file)\n",
    "def convert_binary_to_hex(binary):\n",
    "    hex_values = ''\n",
    "    for i in range(0, len(binary), 4):\n",
    "        byte = binary[i:i + 4]\n",
    "        hex_value = hex(int(byte, 2))[2:].zfill(2)\n",
    "        hex_values += hex_value[1]\n",
    "    return hex_values"
   ]
  },
  {
   "cell_type": "code",
   "execution_count": 72,
   "id": "8cb57abc",
   "metadata": {},
   "outputs": [
    {
     "name": "stdout",
     "output_type": "stream",
     "text": [
      "00000000000000000000001010010011 <=> 00000293\n",
      "00000000010100000000001100010011 <=> 00500313\n",
      "00000000011000101000011001100011 <=> 00628663\n",
      "00000000000100101000001010010011 <=> 00128293\n",
      "11111111100111111111000011101111 <=> ff9ff0ef\n",
      "00000110010000000000001010010011 <=> 06400293\n"
     ]
    }
   ],
   "source": [
    "hexas = []\n",
    "for binary in res:\n",
    "    hexa = convert_binary_to_hex(binary)\n",
    "    print(binary, '<=>', hexa)\n",
    "    hexas.append(hexa)\n",
    "# dump hexas into test.asm\n",
    "with open(hexa_file, 'w') as f:\n",
    "    f.write('\\n'.join(hexas))"
   ]
  }
 ],
 "metadata": {
  "kernelspec": {
   "display_name": "popo",
   "language": "python",
   "name": "python3"
  },
  "language_info": {
   "codemirror_mode": {
    "name": "ipython",
    "version": 3
   },
   "file_extension": ".py",
   "mimetype": "text/x-python",
   "name": "python",
   "nbconvert_exporter": "python",
   "pygments_lexer": "ipython3",
   "version": "3.10.13"
  }
 },
 "nbformat": 4,
 "nbformat_minor": 5
}
